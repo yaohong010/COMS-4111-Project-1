{
  "cells": [
    {
      "cell_type": "markdown",
      "source": [
        "## yw3623 - yanlin.wang\n",
        "## yl4754 - yaohong.liang\n",
        "## PostgreSQL: yl4754\n"
      ],
      "metadata": {
        "id": "8lG9cN94laXr"
      }
    },
    {
      "cell_type": "markdown",
      "metadata": {
        "id": "sJFf4Tifx94h"
      },
      "source": [
        "## Users-Audience-Video_producer(ISA) (Entity) Table"
      ]
    },
    {
      "cell_type": "code",
      "execution_count": null,
      "metadata": {
        "id": "nT5v6h69x94l"
      },
      "outputs": [],
      "source": [
        "CREATE TABLE Users(\n",
        "    User_id varchar(20) PRIMARY KEY,\n",
        "    User_name varchar(30),\n",
        "    Email varchar(255),\n",
        "    Address varchar(20),\n",
        "    Birthdate varchar(10),\n",
        "    CHECK(Email LIKE '%_@__%.__%')\n",
        ")"
      ]
    },
    {
      "cell_type": "code",
      "execution_count": null,
      "metadata": {
        "id": "VG97L58cx94m"
      },
      "outputs": [],
      "source": [
        "CREATE TABLE Audience(\n",
        "    User_id varchar(20) PRIMARY KEY,\n",
        "    Num_of_subscriptions int,\n",
        "    Num_of_given_likes int,\n",
        "    Num_of_given_reviews int, \n",
        "    FOREIGN KEY (User_id) references Users\n",
        "    ON DELETE CASCADE\n",
        ")"
      ]
    },
    {
      "cell_type": "code",
      "execution_count": null,
      "metadata": {
        "id": "3jQhzn92x94m"
      },
      "outputs": [],
      "source": [
        "CREATE TABLE Video_producer(\n",
        "    User_id varchar(20) PRIMARY KEY,\n",
        "    Num_of_launched_video int,\n",
        "    Total_videoplay_amount int,\n",
        "    Num_of_subscribers int,\n",
        "    Num_of_received_likes int,\n",
        "    Num_of_received_reviews int,\n",
        "    FOREIGN KEY (User_id) references Users\n",
        "    ON DELETE CASCADE\n",
        ")"
      ]
    },
    {
      "cell_type": "markdown",
      "metadata": {
        "id": "k5lqpKHqx94o"
      },
      "source": [
        "## Video quality auditor (Entity) Table"
      ]
    },
    {
      "cell_type": "code",
      "execution_count": null,
      "metadata": {
        "id": "Dzqlw0Otx94o"
      },
      "outputs": [],
      "source": [
        "CREATE TABLE Video_quality_auditor(\n",
        "    Auditor_id varchar(20) PRIMARY KEY,\n",
        "    First_name varchar(20),\n",
        "    Last_name varchar(20),\n",
        "    Gender varchar(10)\n",
        ")"
      ]
    },
    {
      "cell_type": "markdown",
      "metadata": {
        "id": "9-DR_iDFx94p"
      },
      "source": [
        "## Review_comment (Aggregation) Table\n",
        "\n",
        "Notes: Only when an user make comments, can a review exist. A user can make many reviews. The relationship is 1-to-many relationship with total \n",
        "    particiation of review."
      ]
    },
    {
      "cell_type": "code",
      "execution_count": null,
      "metadata": {
        "id": "GHtO2ppbx94p"
      },
      "outputs": [],
      "source": [
        "#The aggregation showing that a review must been made by a user.\n",
        "CREATE TABLE Review_comment(\n",
        "    User_id varchar(20),\n",
        "    Review_id varchar(25),\n",
        "    Content text,\n",
        "    Datetime date,\n",
        "    PRIMARY KEY (Review_id),\n",
        "    FOREIGN KEY (User_id) references Users\n",
        ")\n"
      ]
    },
    {
      "cell_type": "markdown",
      "metadata": {
        "id": "1ZMweGHRx94q"
      },
      "source": [
        "## Review_associate (Relationship) Table\n",
        "\n",
        "Notes: A review has to be associated to one video, and one video can have many reviews associated. The relationship is 1-to-many relationship with total \n",
        "    particiation of review."
      ]
    },
    {
      "cell_type": "code",
      "execution_count": null,
      "metadata": {
        "id": "YH5el4Rtx94q"
      },
      "outputs": [],
      "source": [
        "\n",
        "CREATE TABLE Review_associate(\n",
        "    Content_id varchar(30),\n",
        "    Review_id varchar(20),\n",
        "    Auditor_id varchar(20),\n",
        "    PRIMARY KEY (Review_id,Auditor_id,Content_id),\n",
        "    FOREIGN KEY (Content_id,Auditor_id) references Approved_video,\n",
        "    FOREIGN KEY (Review_id) references Review_Comment\n",
        "    ON DELETE NO ACTION\n",
        ")\n",
        "\n",
        "#This CHECK constraint has not yet been added into the PostgreSQL, because \n",
        "#we did not learn trigger yet.\n",
        "#Each review has to be associated with one uploaded and approved video.\n",
        "CREATE ASSERTION reviewasso\n",
        "CHECK(\n",
        "    NOT EXISTS(\n",
        "        SELECT Review_id FROM Review_Comment\n",
        "        WHERE Review_id NOT IN (\n",
        "            SELECT  Review_id FROM Review_associate\n",
        "        )\n",
        "    )\n",
        ")"
      ]
    },
    {
      "cell_type": "markdown",
      "metadata": {
        "id": "4M2UKYczx94q"
      },
      "source": [
        "## Ranking (Entity) Table"
      ]
    },
    {
      "cell_type": "code",
      "execution_count": null,
      "metadata": {
        "id": "3d8f6dGkx94r"
      },
      "outputs": [],
      "source": [
        "CREATE TABLE Ranking(\n",
        "    Title varchar(50),\n",
        "    Release_year varchar(4),\n",
        "    Region varchar(20), \n",
        "  \tPRIMARY KEY (Title, Release_year)\n",
        ")"
      ]
    },
    {
      "cell_type": "markdown",
      "metadata": {
        "id": "A2uZHKVRx94r"
      },
      "source": [
        "## Selected (Relationship) Table"
      ]
    },
    {
      "cell_type": "code",
      "execution_count": null,
      "metadata": {
        "id": "u_iS2EqCx94r"
      },
      "outputs": [],
      "source": [
        "CREATE TABLE Selected(\n",
        "    Title varchar(50),\n",
        "    Release_year varchar(20),\n",
        "    Content_id varchar(20),\n",
        "    Auditor_id varchar(20),\n",
        "    PRIMARY KEY (Title,Release_year,Auditor_id,Content_id),\n",
        "    FOREIGN KEY (Content_id,Auditor_id) references Approved_video\n",
        "    ON DELETE NO ACTION\n",
        ")"
      ]
    },
    {
      "cell_type": "markdown",
      "metadata": {
        "id": "waQowFzhx94r"
      },
      "source": [
        "## Subscribe (Relationship) Table"
      ]
    },
    {
      "cell_type": "code",
      "execution_count": null,
      "metadata": {
        "id": "aQXCUkZwx94s"
      },
      "outputs": [],
      "source": [
        "CREATE TABLE Subscribe(\n",
        "    Audience_id varchar(20),\n",
        "    Producer_id varchar(20),\n",
        "    FOREIGN KEY (Audience_id) references Audience,\n",
        "    FOREIGN KEY (Producer_id) references Video_producer,\n",
        "    PRIMARY KEY (Audience_id,Producer_id)\n",
        ")"
      ]
    },
    {
      "cell_type": "markdown",
      "metadata": {
        "id": "14E8QHM_x94s"
      },
      "source": [
        "## Watch (Relationship) Table"
      ]
    },
    {
      "cell_type": "code",
      "execution_count": null,
      "metadata": {
        "id": "CSMpSB1jx94s"
      },
      "outputs": [],
      "source": [
        "CREATE TABLE Watch(\n",
        "    User_id varchar(20),\n",
        "    Duration varchar(30),\n",
        "    Datetime varchar(30),\n",
        "    Content_id varchar(30),\n",
        "    Auditor_id varchar(20),\n",
        "    FOREIGN KEY (User_id) references Audience, \n",
        "    FOREIGN KEY (Content_id,Auditor_id) references Approved_video, \n",
        "    PRIMARY KEY (User_id,Content_id,Auditor_id)\n",
        ")"
      ]
    },
    {
      "cell_type": "markdown",
      "metadata": {
        "id": "CatssHkfx94s"
      },
      "source": [
        "## Uploaded_approved (Aggregation) Table\n",
        "\n",
        "Notes: We use this table to describe the relationship between auditors, videos and producers. It shows that all the \n",
        "    video shared on this website must be uploaded by producer first and then approved by auditors."
      ]
    },
    {
      "cell_type": "code",
      "execution_count": null,
      "metadata": {
        "id": "i4uncDbBx94s"
      },
      "outputs": [],
      "source": [
        "# delect Datetime for Upload\n",
        "# transfer Release_datetime to Approved_video\n",
        "# DELECT line 7 data b/c of UTF-8 formatting problem\n",
        "CREATE TABLE Uploaded_video(\n",
        "    User_id varchar(20),\n",
        "    Content_id varchar(30),\n",
        "    Video_title varchar(255),\n",
        "    Hyperlink text,\n",
        "    Genre varchar(20), \n",
        "    Length varchar(30),\n",
        "    Num_of_likes int,\n",
        "    Num_of_reviews int,\n",
        "    Play_amount int,\n",
        "    FOREIGN KEY (User_id) references Video_producer,\n",
        "    PRIMARY KEY (Content_id)\n",
        ")\n",
        "\n",
        "# wait to do\n",
        "CREATE ASSERTION videoprod\n",
        "CHECK(\n",
        "    NOT EXISTS(\n",
        "        SELECT User_id FROM Video_producer\n",
        "        WHERE User_id NOT IN (\n",
        "            SELECT  User_id FROM Uploaded_video\n",
        "        )\n",
        "    )\n",
        ")\n",
        "\n",
        "CREATE TABLE Approved_video(\n",
        "    Content_id varchar(30),\n",
        "    Auditor_id varchar(20),\n",
        "    Release_datetime varchar(30), \n",
        "    FOREIGN KEY (Content_id) references Uploaded_video,\n",
        "    FOREIGN KEY (Auditor_id) references Video_quality_auditor,\n",
        "    PRIMARY KEY (Content_id, Auditor_id)\n",
        ")\n",
        "\n",
        "\n",
        "# wait to do\n",
        "CREATE ASSERTION videoappro\n",
        "CHECK(\n",
        "    NOT EXISTS(\n",
        "        SELECT Content_id FROM Uploaded_video\n",
        "        WHERE Content_id NOT IN (\n",
        "            SELECT  Content_id FROM Approved_video\n",
        "        )\n",
        "    )\n",
        ")\n"
      ]
    },
    {
      "cell_type": "markdown",
      "source": [
        "# 3 Interesting Queries"
      ],
      "metadata": {
        "id": "wq6YuHRYTXNj"
      }
    },
    {
      "cell_type": "markdown",
      "source": [
        "## Query 1: Get the percentage of videos that have been approved."
      ],
      "metadata": {
        "id": "zEbDACXwZpyS"
      }
    },
    {
      "cell_type": "markdown",
      "source": [
        "We use `with` statement to obtain number of videos uploaded from `uploaded_video` and number of videos approved from `approved_video`, respectively. Then, we calculate the percentage in t."
      ],
      "metadata": {
        "id": "N_b2a7v8kHRz"
      }
    },
    {
      "cell_type": "code",
      "source": [
        "WITH cte AS (\n",
        "SELECT \n",
        "\tCOUNT(*) as num_approved_video\n",
        "FROM Approved_video\n",
        "), \n",
        "cte2 AS (\n",
        "SELECT\n",
        "\tCAST(COUNT(*) AS FLOAT) as num_uploaded_video\n",
        "FROM uploaded_video\n",
        ")\n",
        "SELECT\n",
        "\tROUND(CAST((cte.num_approved_video/cte2.num_uploaded_video)*100 AS NUMERIC), 2) AS approved_percentage\n",
        "FROM cte, cte2"
      ],
      "metadata": {
        "id": "MurernEYTb9k"
      },
      "execution_count": null,
      "outputs": []
    },
    {
      "cell_type": "markdown",
      "source": [
        "## Query 2: Find the name of users whose uploaded videos were not approved."
      ],
      "metadata": {
        "id": "T4Msu4lkaTxl"
      }
    },
    {
      "cell_type": "markdown",
      "source": [
        "We first obtain the name of users whose videos have been approved. Then, we select user names not in those."
      ],
      "metadata": {
        "id": "dn9E-QSTknt9"
      }
    },
    {
      "cell_type": "code",
      "source": [
        "WITH cte AS (\n",
        "SELECT\n",
        "\tc.user_name\n",
        "FROM Approved_video a\n",
        "LEFT JOIN uploaded_video b ON a.content_id = b.content_id\n",
        "JOIN Users c ON b.User_id = c.User_id\n",
        ")\n",
        "SELECT\n",
        "\tuser_name\n",
        "FROM Users\n",
        "WHERE user_name NOT IN (SELECT * FROM cte)"
      ],
      "metadata": {
        "id": "z6cKZZfmTccy"
      },
      "execution_count": null,
      "outputs": []
    },
    {
      "cell_type": "markdown",
      "source": [
        "## Query 3: What are all the Genre of uploaded videos that has been approved by auditor?"
      ],
      "metadata": {
        "id": "PWFGTm8LadND"
      }
    },
    {
      "cell_type": "markdown",
      "source": [
        "We check whether the content_id of uploaded videos appear in the approved_video table. And if it exists, we output the Genre from uploaded_video and delete duplicates."
      ],
      "metadata": {
        "id": "RI_PFaJvjssu"
      }
    },
    {
      "cell_type": "code",
      "source": [
        "SELECT [DISTINCT] Genre \n",
        "FROM uploaded_video\n",
        "WHERE Content_id IN(\n",
        "\tSELECT Content_id FROM approved_video)\n",
        "\n",
        "#We check whether the content_id of uploaded videos appear in the approved_video \n",
        "#table. And if it exists, we output the Genre from uploaded_video and \n",
        "#delete duplicates."
      ],
      "metadata": {
        "id": "xbCJFDfuTcjt"
      },
      "execution_count": null,
      "outputs": []
    }
  ],
  "metadata": {
    "kernelspec": {
      "display_name": "Python 3",
      "language": "python",
      "name": "python3"
    },
    "language_info": {
      "codemirror_mode": {
        "name": "ipython",
        "version": 3
      },
      "file_extension": ".py",
      "mimetype": "text/x-python",
      "name": "python",
      "nbconvert_exporter": "python",
      "pygments_lexer": "ipython3",
      "version": "3.8.3"
    },
    "colab": {
      "name": "COMS 4111 project1.1.ipynb",
      "provenance": [],
      "collapsed_sections": []
    }
  },
  "nbformat": 4,
  "nbformat_minor": 0
}